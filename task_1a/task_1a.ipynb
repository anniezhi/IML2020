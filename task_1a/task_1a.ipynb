{
 "cells": [
  {
   "cell_type": "code",
   "execution_count": 28,
   "metadata": {},
   "outputs": [],
   "source": [
    "import pandas as pd\n",
    "data = pd.read_csv(\"train.csv\")"
   ]
  },
  {
   "cell_type": "code",
   "execution_count": 29,
   "metadata": {},
   "outputs": [],
   "source": [
    "feature_cols = ['x1','x2','x3','x4','x5','x6','x7','x8','x9','x10','x11','x12','x13']\n",
    "X = data[feature_cols]\n",
    "y = data['y']\n",
    "from sklearn.model_selection import KFold\n",
    "kf = KFold(n_splits=10)\n",
    "from sklearn import linear_model\n",
    "from sklearn.metrics import mean_squared_error\n",
    "\n",
    "regu_params = [0.01,0.1,1,10,100]\n",
    "result = []\n",
    "for param in regu_params:\n",
    "    tot_RMSE = 0\n",
    "    for train,test in kf.split(data):\n",
    "        X_train = data.iloc[train][feature_cols]\n",
    "        y_train = data.iloc[train]['y']\n",
    "        X_test = data.iloc[test][feature_cols]\n",
    "        y_test = data.iloc[test]['y']\n",
    "        ridge_reg = linear_model.Ridge(param)\n",
    "        ridge_reg.fit(X_train, y_train)\n",
    "        y_pred = ridge_reg.predict(X_test)\n",
    "        RMSE = mean_squared_error(y_test, y_pred)**0.5\n",
    "        tot_RMSE = tot_RMSE + RMSE\n",
    "    result.append(tot_RMSE/10)\n",
    "\n",
    "df = pd.DataFrame({'':result})\n",
    "df.to_csv(\"result.csv\",index=0,header=0)\n",
    "    "
   ]
  }
 ],
 "metadata": {
  "kernelspec": {
   "display_name": "Python 3",
   "language": "python",
   "name": "python3"
  },
  "language_info": {
   "codemirror_mode": {
    "name": "ipython",
    "version": 3
   },
   "file_extension": ".py",
   "mimetype": "text/x-python",
   "name": "python",
   "nbconvert_exporter": "python",
   "pygments_lexer": "ipython3",
   "version": "3.7.3"
  }
 },
 "nbformat": 4,
 "nbformat_minor": 2
}

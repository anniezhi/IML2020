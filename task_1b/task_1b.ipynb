{
 "cells": [
  {
   "cell_type": "code",
   "execution_count": 58,
   "metadata": {},
   "outputs": [],
   "source": [
    "import pandas as pd\n",
    "data = pd.read_csv(\"train.csv\")"
   ]
  },
  {
   "cell_type": "code",
   "execution_count": 59,
   "metadata": {},
   "outputs": [],
   "source": [
    "X = data[['x1','x2','x3','x4','x5']]\n",
    "import numpy as np\n",
    "PHI = pd.DataFrame()\n",
    "PHI['phi_1']=X['x1']\n",
    "PHI['phi_2']=X['x2']\n",
    "PHI['phi_3']=X['x3']\n",
    "PHI['phi_4']=X['x4']\n",
    "PHI['phi_5']=X['x5']\n",
    "PHI['phi_6']=X['x1'] ** 2\n",
    "PHI['phi_7']=X['x2'] ** 2\n",
    "PHI['phi_8']=X['x3'] ** 2\n",
    "PHI['phi_9']=X['x4'] ** 2\n",
    "PHI['phi_10']=X['x5'] ** 2\n",
    "PHI['phi_11']=np.exp(X['x1'])\n",
    "PHI['phi_12']=np.exp(X['x2'])\n",
    "PHI['phi_13']=np.exp(X['x3'])\n",
    "PHI['phi_14']=np.exp(X['x4'])\n",
    "PHI['phi_15']=np.exp(X['x5'])\n",
    "PHI['phi_16']=np.cos(X['x1'])\n",
    "PHI['phi_17']=np.cos(X['x2'])\n",
    "PHI['phi_18']=np.cos(X['x3'])\n",
    "PHI['phi_19']=np.cos(X['x4'])\n",
    "PHI['phi_20']=np.cos(X['x5'])\n",
    "tmp = []\n",
    "for i in range(0,700):\n",
    "    tmp.append(1)\n",
    "PHI['phi_21']=tmp\n"
   ]
  },
  {
   "cell_type": "code",
   "execution_count": 64,
   "metadata": {},
   "outputs": [
    {
     "data": {
      "text/plain": [
       "Ridge(alpha=0.1, copy_X=True, fit_intercept=False, max_iter=None,\n",
       "      normalize=False, random_state=None, solver='auto', tol=0.001)"
      ]
     },
     "execution_count": 64,
     "metadata": {},
     "output_type": "execute_result"
    }
   ],
   "source": [
    "from sklearn import linear_model"
   ]
  },
  {
   "cell_type": "code",
   "execution_count": 82,
   "metadata": {},
   "outputs": [
    {
     "data": {
      "text/plain": [
       "[4.89870259774705,\n",
       " 4.897456413068625,\n",
       " 4.8975822442491594,\n",
       " 4.897985776863132,\n",
       " 4.898429656048128,\n",
       " 4.900127570603312]"
      ]
     },
     "execution_count": 82,
     "metadata": {},
     "output_type": "execute_result"
    }
   ],
   "source": [
    "from sklearn.model_selection import KFold\n",
    "kf = KFold(n_splits=10)\n",
    "from sklearn import linear_model\n",
    "from sklearn.metrics import mean_squared_error\n",
    "\n",
    "regu_params = [ 10,20,30,40, 50,100]\n",
    "result = []\n",
    "for param in regu_params:\n",
    "    tot_RMSE = 0\n",
    "    for train,test in kf.split(data):\n",
    "        X_train = PHI.iloc[train]\n",
    "        y_train = data.iloc[train]['y']\n",
    "        X_test = PHI.iloc[test]\n",
    "        y_test = data.iloc[test]['y']\n",
    "        ridge_reg = linear_model.Ridge(alpha = param, fit_intercept=False)\n",
    "        ridge_reg.fit(X_train, y_train)\n",
    "        y_pred = ridge_reg.predict(X_test)\n",
    "        RMSE = mean_squared_error(y_test, y_pred)**0.5\n",
    "        tot_RMSE = tot_RMSE + RMSE\n",
    "    result.append(tot_RMSE/10)\n",
    "\n",
    "result"
   ]
  },
  {
   "cell_type": "code",
   "execution_count": 87,
   "metadata": {},
   "outputs": [],
   "source": [
    "ridge_reg = linear_model.Ridge(alpha = 20, fit_intercept=False)\n",
    "ridge_reg.fit(PHI,data['y'])\n",
    "output = pd.DataFrame({'':ridge_reg.coef_})\n",
    "output.to_csv(\"result.csv\",index=0,header=0)"
   ]
  }
 ],
 "metadata": {
  "kernelspec": {
   "display_name": "Python 3",
   "language": "python",
   "name": "python3"
  },
  "language_info": {
   "codemirror_mode": {
    "name": "ipython",
    "version": 3
   },
   "file_extension": ".py",
   "mimetype": "text/x-python",
   "name": "python",
   "nbconvert_exporter": "python",
   "pygments_lexer": "ipython3",
   "version": "3.7.3"
  }
 },
 "nbformat": 4,
 "nbformat_minor": 2
}
